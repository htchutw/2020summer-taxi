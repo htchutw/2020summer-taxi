{
  "nbformat": 4,
  "nbformat_minor": 0,
  "metadata": {
    "accelerator": "GPU",
    "colab": {
      "name": "D2-hotspot_solution.ipynb",
      "provenance": [],
      "collapsed_sections": [],
      "machine_shape": "hm"
    },
    "kernelspec": {
      "display_name": "Python 3",
      "language": "python",
      "name": "python3"
    },
    "language_info": {
      "codemirror_mode": {
        "name": "ipython",
        "version": 3
      },
      "file_extension": ".py",
      "mimetype": "text/x-python",
      "name": "python",
      "nbconvert_exporter": "python",
      "pygments_lexer": "ipython3",
      "version": "3.7.6"
    }
  },
  "cells": [
    {
      "cell_type": "markdown",
      "metadata": {
        "colab_type": "text",
        "id": "0KvrRl029pPB"
      },
      "source": [
        "<table width=\"100%\" border=\"3\">\n",
        "  <tbody>\n",
        "    <tr>\n",
        "      <td ><img src=\"https://aidea-web.tw/images/web/logo_white.png\" alt=\"Aidea\" width=\"400\"/></td>\n",
        "      <td align='left'><h1>Exercise 2: Simple Hotspot Prediction algorithm</h1></td>\n",
        "    </tr>\n",
        "  </tbody>\n",
        "</table>\n",
        "Taxi Hotspot Prediction"
      ]
    },
    {
      "cell_type": "markdown",
      "metadata": {
        "colab_type": "text",
        "id": "yhFS0k6edj4s"
      },
      "source": [
        "# AU AI Summer Programs 2020\n",
        "* This tutorial uses the Taxi Hotspot Prediction dataset of the AIdea platform.\n",
        "* Introduce how to write deep learning programs to predict the ride demand of a specific block in a certain period of time.\n",
        "* This notebook program can be executed in the cloud using Google Colab or Jupyter on a personal computer.\n",
        "\n",
        "AUAI Summer Taxi Hotspot Prediction Project\n",
        "https://aidea-web.tw/topic/e26fcd72-9da1-4baa-a6a5-36a326f61072\n",
        "\n",
        "Pro.Hsueh-Ting Chu EMAIL: htchu.taiwan@gmail.com  FB: https://www.facebook.com/htchu.taiwan\n",
        "\n",
        "# Exercise 2: Simple solution for Taxi Hotspot Prediction \n",
        "* AIdea Taxi Hotspot Prediction project"
      ]
    },
    {
      "cell_type": "markdown",
      "metadata": {
        "colab_type": "text",
        "id": "BkguTuu0doDW"
      },
      "source": [
        "# (A) AIdea dataset\n"
      ]
    },
    {
      "cell_type": "markdown",
      "metadata": {
        "colab_type": "text",
        "id": "sMzNhOKcFJTV"
      },
      "source": [
        "## Step 1: Load the AIdea Taxi Hotspot Prediction dataset from google drive"
      ]
    },
    {
      "cell_type": "code",
      "metadata": {
        "colab_type": "code",
        "id": "l6aE0y5oc8Ec",
        "colab": {}
      },
      "source": [
        "from google_drive_downloader import GoogleDriveDownloader\n",
        "GoogleDriveDownloader.download_file_from_google_drive(file_id='1ycB6gg5iRyPpMmq9gJ2A4N0dNcQ30pFb',dest_path='./content', unzip=True)"
      ],
      "execution_count": null,
      "outputs": []
    },
    {
      "cell_type": "markdown",
      "metadata": {
        "colab_type": "text",
        "id": "WHjI9HpmRfac"
      },
      "source": [
        "## Step 2: Reads training data of taxi points"
      ]
    },
    {
      "cell_type": "code",
      "metadata": {
        "colab_type": "code",
        "id": "TqB5T0_yk21r",
        "colab": {}
      },
      "source": [
        "import numpy as np\n",
        "import pandas as pd\n",
        "import matplotlib.pyplot as plt\n",
        "%matplotlib inline"
      ],
      "execution_count": null,
      "outputs": []
    },
    {
      "cell_type": "code",
      "metadata": {
        "colab_type": "code",
        "id": "6dwc7F7dioM7",
        "colab": {}
      },
      "source": [
        "df_train = pd.read_csv('train_hire_stats.csv')\n",
        "df_train.shape"
      ],
      "execution_count": null,
      "outputs": []
    },
    {
      "cell_type": "code",
      "metadata": {
        "id": "QqPj6ZzB6D5A",
        "colab_type": "code",
        "colab": {}
      },
      "source": [
        "df_train.head()"
      ],
      "execution_count": null,
      "outputs": []
    },
    {
      "cell_type": "markdown",
      "metadata": {
        "id": "IJ6_Auoy6N0A",
        "colab_type": "text"
      },
      "source": [
        "# (B) Check weekdays\n",
        "0 == Monday\n",
        "1 == Tuesday\n",
        "2 == Wednesday\n",
        "3 == Thursday\n",
        "4 == Friday\n",
        "5 == Saturday\n",
        "6 == Sunday"
      ]
    },
    {
      "cell_type": "markdown",
      "metadata": {
        "colab_type": "text",
        "id": "uImM5L4DlG4X"
      },
      "source": [
        "## Step 3: Convert date string"
      ]
    },
    {
      "cell_type": "code",
      "metadata": {
        "colab_type": "code",
        "id": "LizhcbfXis75",
        "colab": {}
      },
      "source": [
        "#Declare weekday & workday\n",
        "isworkday = np.ones((len(df_train),), dtype=int)\n",
        "weekday = np.ones((len(df_train),), dtype=int)"
      ],
      "execution_count": null,
      "outputs": []
    },
    {
      "cell_type": "code",
      "metadata": {
        "id": "kVqxU6586wV8",
        "colab_type": "code",
        "colab": {}
      },
      "source": [
        "from datetime import datetime\n",
        "for index, row in df_train.iterrows():\n",
        "    dd=datetime.strptime(row['Date'], \"%Y-%m-%d\")\n",
        "    weekday[index]= dd.weekday() \n",
        "    if weekday[index] >=5 :\n",
        "        isworkday[index] = 0"
      ],
      "execution_count": null,
      "outputs": []
    },
    {
      "cell_type": "markdown",
      "metadata": {
        "id": "mkgPu3oI74O8",
        "colab_type": "text"
      },
      "source": [
        "## Step 4: Build a new dataframe from the training data"
      ]
    },
    {
      "cell_type": "code",
      "metadata": {
        "id": "6XeY2V0m7AdQ",
        "colab_type": "code",
        "colab": {}
      },
      "source": [
        "#Build a new dataframe from the training data\n",
        "RawX = pd.DataFrame(df_train[[\"Zone_ID\", \"Hour_slot\"]])\n",
        "RawX['isworkday'] = isworkday\n",
        "RawX['weekday'] = weekday\n",
        "RawX.head()"
      ],
      "execution_count": null,
      "outputs": []
    },
    {
      "cell_type": "markdown",
      "metadata": {
        "id": "y7sY7JWK8TvL",
        "colab_type": "text"
      },
      "source": [
        "# (C) # One-Hot-Encoder"
      ]
    },
    {
      "cell_type": "markdown",
      "metadata": {
        "id": "BO4E2FlW84pf",
        "colab_type": "text"
      },
      "source": [
        "## Step 5: OneHotEncoder"
      ]
    },
    {
      "cell_type": "code",
      "metadata": {
        "colab_type": "code",
        "id": "8xBuhRnLlmTM",
        "colab": {}
      },
      "source": [
        "from sklearn.preprocessing import OneHotEncoder\n",
        "enc = OneHotEncoder(handle_unknown='ignore')"
      ],
      "execution_count": null,
      "outputs": []
    },
    {
      "cell_type": "markdown",
      "metadata": {
        "id": "-rI8mYb59AsS",
        "colab_type": "text"
      },
      "source": [
        "## Step 6: fit_transform"
      ]
    },
    {
      "cell_type": "code",
      "metadata": {
        "colab_type": "code",
        "id": "uA2AWBT09Klk",
        "colab": {}
      },
      "source": [
        "enc.fit_transform(RawX)\n",
        "enc.categories_"
      ],
      "execution_count": null,
      "outputs": []
    },
    {
      "cell_type": "markdown",
      "metadata": {
        "id": "T0wqFpfS9HA4",
        "colab_type": "text"
      },
      "source": [
        "## Step 7: transform"
      ]
    },
    {
      "cell_type": "code",
      "metadata": {
        "colab_type": "code",
        "id": "zvcrqsuM9Zof",
        "colab": {}
      },
      "source": [
        "#Transform data into one hot vector\n",
        "X = enc.transform(RawX).toarray()\n",
        "X.shape"
      ],
      "execution_count": null,
      "outputs": []
    },
    {
      "cell_type": "code",
      "metadata": {
        "colab_type": "code",
        "id": "ttimxvzo9mgs",
        "colab": {}
      },
      "source": [
        "#See the cooked input data\n",
        "X[0:3, :]"
      ],
      "execution_count": null,
      "outputs": []
    },
    {
      "cell_type": "markdown",
      "metadata": {
        "id": "YKpiDxqR__Hk",
        "colab_type": "text"
      },
      "source": [
        "# (D) Training a DNN model for prediction"
      ]
    },
    {
      "cell_type": "markdown",
      "metadata": {
        "id": "AyN2KPo4AKVU",
        "colab_type": "text"
      },
      "source": [
        "## Step 8: Resize y into (0,1)"
      ]
    },
    {
      "cell_type": "code",
      "metadata": {
        "colab_type": "code",
        "id": "1xRwCCZt9vyS",
        "colab": {}
      },
      "source": [
        "#Resize y into (0,1)\n",
        "y = df_train[\"Hire_count\"].values/339.0\n",
        "y.shape"
      ],
      "execution_count": null,
      "outputs": []
    },
    {
      "cell_type": "markdown",
      "metadata": {
        "id": "REIlgfSdB7xQ",
        "colab_type": "text"
      },
      "source": [
        "## Step 9: Define a DNN"
      ]
    },
    {
      "cell_type": "code",
      "metadata": {
        "id": "oprgW4qYAP9X",
        "colab_type": "code",
        "colab": {}
      },
      "source": [
        "import tensorflow as tf\n",
        "from tensorflow import keras\n",
        "from tensorflow.keras.models import Sequential\n",
        "from tensorflow.keras.layers import Input, Dense, Activation, Dropout"
      ],
      "execution_count": null,
      "outputs": []
    },
    {
      "cell_type": "code",
      "metadata": {
        "id": "OXcQLTAMASf6",
        "colab_type": "code",
        "colab": {}
      },
      "source": [
        "# create and fit a Baseline Neural Network Model\n",
        "model = Sequential()\n",
        "model.add(Dense(128, activation='relu', input_dim=58))\n",
        "model.add(Dense(units=10, activation='softmax'))\n",
        "model.add(Dropout(0.1))\n",
        "model.add(Dense(1))"
      ],
      "execution_count": null,
      "outputs": []
    },
    {
      "cell_type": "markdown",
      "metadata": {
        "id": "9BBCLJc3CBQr",
        "colab_type": "text"
      },
      "source": [
        "## Step 10: Compile and Train the model"
      ]
    },
    {
      "cell_type": "code",
      "metadata": {
        "id": "uXhP0vdKAWL1",
        "colab_type": "code",
        "colab": {}
      },
      "source": [
        "model.compile(loss='mse', optimizer='adam')\n",
        "model.fit(X, y, epochs=20, batch_size=1024, verbose=1)"
      ],
      "execution_count": null,
      "outputs": []
    },
    {
      "cell_type": "markdown",
      "metadata": {
        "id": "v4cbtv_qAhZR",
        "colab_type": "text"
      },
      "source": [
        "# (E) Do the prediction"
      ]
    },
    {
      "cell_type": "markdown",
      "metadata": {
        "id": "Am1ZaE4eCH1U",
        "colab_type": "text"
      },
      "source": [
        "## Step 11: Read the test dataset"
      ]
    },
    {
      "cell_type": "code",
      "metadata": {
        "id": "zKC_vhVsArNY",
        "colab_type": "code",
        "colab": {}
      },
      "source": [
        "df_test = pd.read_csv('test_hire_stats.csv')\n",
        "df_test.shape"
      ],
      "execution_count": null,
      "outputs": []
    },
    {
      "cell_type": "markdown",
      "metadata": {
        "id": "ZZeTA6czCMf2",
        "colab_type": "text"
      },
      "source": [
        "## Step 12:Convert to weekday"
      ]
    },
    {
      "cell_type": "code",
      "metadata": {
        "id": "WIciUbUPAvKE",
        "colab_type": "code",
        "colab": {}
      },
      "source": [
        "#Declare weekday & workday\n",
        "isworkday2 = np.ones((len(df_test),), dtype=int)\n",
        "weekday2 = np.ones((len(df_test),), dtype=int)"
      ],
      "execution_count": null,
      "outputs": []
    },
    {
      "cell_type": "code",
      "metadata": {
        "id": "dmCt-vHtAyA9",
        "colab_type": "code",
        "colab": {}
      },
      "source": [
        "for index, row in df_test.iterrows():\n",
        "    dd=datetime.strptime(row['Date'], \"%Y/%m/%d\")\n",
        "    weekday2[index]= dd.weekday() \n",
        "    if weekday2[index] >=5:\n",
        "        isworkday2[index] = 0"
      ],
      "execution_count": null,
      "outputs": []
    },
    {
      "cell_type": "markdown",
      "metadata": {
        "id": "eaMO20t0Cckr",
        "colab_type": "text"
      },
      "source": [
        "## Step 13: One-hot encoding of test data"
      ]
    },
    {
      "cell_type": "code",
      "metadata": {
        "id": "rZiKkhsNA5ml",
        "colab_type": "code",
        "colab": {}
      },
      "source": [
        "Test = pd.DataFrame(df_test[[\"Zone_ID\", \"Hour_slot\"]])\n",
        "Test['isworkday'] = isworkday2\n",
        "Test['weekday'] = weekday2"
      ],
      "execution_count": null,
      "outputs": []
    },
    {
      "cell_type": "code",
      "metadata": {
        "id": "zzeT4gYLA8Tz",
        "colab_type": "code",
        "colab": {}
      },
      "source": [
        "Xtest = enc.transform(Test).toarray()\n",
        "Xtest.shape"
      ],
      "execution_count": null,
      "outputs": []
    },
    {
      "cell_type": "markdown",
      "metadata": {
        "id": "KQgvC_SgCjQ7",
        "colab_type": "text"
      },
      "source": [
        "## Step 14: Do prediction"
      ]
    },
    {
      "cell_type": "code",
      "metadata": {
        "id": "OtMWRUujA-kt",
        "colab_type": "code",
        "colab": {}
      },
      "source": [
        "yt = model.predict(Xtest)*339.0"
      ],
      "execution_count": null,
      "outputs": []
    },
    {
      "cell_type": "markdown",
      "metadata": {
        "id": "TPKXSQgtCnL7",
        "colab_type": "text"
      },
      "source": [
        "## Step 15: Output result"
      ]
    },
    {
      "cell_type": "code",
      "metadata": {
        "id": "awm5duAuBBDx",
        "colab_type": "code",
        "colab": {}
      },
      "source": [
        "plt.plot(yt)"
      ],
      "execution_count": null,
      "outputs": []
    },
    {
      "cell_type": "code",
      "metadata": {
        "id": "8RLMvMaoBDSc",
        "colab_type": "code",
        "colab": {}
      },
      "source": [
        "dfOut = pd.DataFrame(df_test)"
      ],
      "execution_count": null,
      "outputs": []
    },
    {
      "cell_type": "code",
      "metadata": {
        "id": "mhuL1LajBVqo",
        "colab_type": "code",
        "colab": {}
      },
      "source": [
        "for i in range(len(yt)):\n",
        "  if yt[i] < 0.0:\n",
        "    yt[i] = 0.0"
      ],
      "execution_count": null,
      "outputs": []
    },
    {
      "cell_type": "code",
      "metadata": {
        "id": "jyT8KaLcrBdt",
        "colab_type": "code",
        "colab": {}
      },
      "source": [
        "dfOut['Hire_count'] = yt"
      ],
      "execution_count": null,
      "outputs": []
    },
    {
      "cell_type": "code",
      "metadata": {
        "id": "NIlyHdF-rlY9",
        "colab_type": "code",
        "colab": {}
      },
      "source": [
        "dfOut.head()"
      ],
      "execution_count": null,
      "outputs": []
    },
    {
      "cell_type": "code",
      "metadata": {
        "id": "c8OMQHznBFVr",
        "colab_type": "code",
        "colab": {}
      },
      "source": [
        "dfOut.to_csv('Result-A.csv', index=False)"
      ],
      "execution_count": null,
      "outputs": []
    }
  ]
}