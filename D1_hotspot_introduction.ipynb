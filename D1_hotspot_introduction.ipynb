{
  "nbformat": 4,
  "nbformat_minor": 0,
  "metadata": {
    "accelerator": "GPU",
    "colab": {
      "name": "D1-hotspot_introduction.ipynb",
      "provenance": [],
      "collapsed_sections": [],
      "toc_visible": true,
      "machine_shape": "hm"
    },
    "kernelspec": {
      "display_name": "Python 3",
      "language": "python",
      "name": "python3"
    },
    "language_info": {
      "codemirror_mode": {
        "name": "ipython",
        "version": 3
      },
      "file_extension": ".py",
      "mimetype": "text/x-python",
      "name": "python",
      "nbconvert_exporter": "python",
      "pygments_lexer": "ipython3",
      "version": "3.7.6"
    }
  },
  "cells": [
    {
      "cell_type": "markdown",
      "metadata": {
        "colab_type": "text",
        "id": "0KvrRl029pPB"
      },
      "source": [
        "<table width=\"100%\" border=\"3\">\n",
        "  <tbody>\n",
        "    <tr>\n",
        "      <td ><img src=\"https://aidea-web.tw/images/web/logo_white.png\" alt=\"Aidea\" width=\"400\"/></td>\n",
        "      <td align='left'><h1>Exercise 1: Introduction to AIdea Hotspot</h1></td>\n",
        "    </tr>\n",
        "  </tbody>\n",
        "</table>\n",
        "Taxi Hotspot Prediction"
      ]
    },
    {
      "cell_type": "markdown",
      "metadata": {
        "colab_type": "text",
        "id": "yhFS0k6edj4s"
      },
      "source": [
        "# AU AI Summer Programs 2020\n",
        "* This tutorial uses the Taxi Hotspot Prediction dataset of the AIdea platform.\n",
        "* Introduce how to write deep learning programs to predict the ride demand of a specific block in a certain period of time.\n",
        "* This notebook program can be executed in the cloud using Google Colab or Jupyter on a personal computer.\n",
        "\n",
        "AUAI Summer Taxi Hotspot Prediction Project\n",
        "https://aidea-web.tw/topic/e26fcd72-9da1-4baa-a6a5-36a326f61072\n",
        "\n",
        "Pro.Hsueh-Ting Chu EMAIL: htchu.taiwan@gmail.com  FB: https://www.facebook.com/htchu.taiwan\n",
        "\n",
        "# Exercise 1: Taxi Hotspot Prediction \n",
        "* AIdea Taxi Hotspot Prediction project"
      ]
    },
    {
      "cell_type": "markdown",
      "metadata": {
        "colab_type": "text",
        "id": "BkguTuu0doDW"
      },
      "source": [
        "# (A) AIdea dataset\n"
      ]
    },
    {
      "cell_type": "markdown",
      "metadata": {
        "colab_type": "text",
        "id": "sMzNhOKcFJTV"
      },
      "source": [
        "## Step 1: Load the AIdea Taxi Hotspot Prediction dataset from google drive"
      ]
    },
    {
      "cell_type": "code",
      "metadata": {
        "colab_type": "code",
        "id": "l6aE0y5oc8Ec",
        "colab": {}
      },
      "source": [
        "from google_drive_downloader import GoogleDriveDownloader\n",
        "GoogleDriveDownloader.download_file_from_google_drive(file_id='1ycB6gg5iRyPpMmq9gJ2A4N0dNcQ30pFb',dest_path='./content', unzip=True)"
      ],
      "execution_count": null,
      "outputs": []
    },
    {
      "cell_type": "markdown",
      "metadata": {
        "colab_type": "text",
        "id": "jR_KADlQk7Gs"
      },
      "source": [
        "## Step 2: read the training zones"
      ]
    },
    {
      "cell_type": "code",
      "metadata": {
        "colab_type": "code",
        "id": "TqB5T0_yk21r",
        "colab": {}
      },
      "source": [
        "import numpy as np\n",
        "import pandas as pd\n",
        "import matplotlib.pyplot as plt\n",
        "%matplotlib inline"
      ],
      "execution_count": null,
      "outputs": []
    },
    {
      "cell_type": "code",
      "metadata": {
        "colab_type": "code",
        "id": "iaFX5Cqgicw0",
        "colab": {}
      },
      "source": [
        "img = plt.imread('zones.png')\n",
        "plt.imshow(img)\n",
        "plt.show()"
      ],
      "execution_count": null,
      "outputs": []
    },
    {
      "cell_type": "code",
      "metadata": {
        "id": "8aeEtZdw4vEH",
        "colab_type": "code",
        "colab": {}
      },
      "source": [
        "df_zones = pd.read_csv('zones.csv')\n",
        "df_zones.shape"
      ],
      "execution_count": null,
      "outputs": []
    },
    {
      "cell_type": "code",
      "metadata": {
        "id": "dAT-9QK64Zur",
        "colab_type": "code",
        "colab": {}
      },
      "source": [
        "df_zones.head()"
      ],
      "execution_count": null,
      "outputs": []
    },
    {
      "cell_type": "code",
      "metadata": {
        "id": "DPBTAJBO4-Qi",
        "colab_type": "code",
        "colab": {}
      },
      "source": [
        "df_zones.tail()"
      ],
      "execution_count": null,
      "outputs": []
    },
    {
      "cell_type": "markdown",
      "metadata": {
        "colab_type": "text",
        "id": "WHjI9HpmRfac"
      },
      "source": [
        "## Step 3: Reads training data of taxi points"
      ]
    },
    {
      "cell_type": "code",
      "metadata": {
        "colab_type": "code",
        "id": "6dwc7F7dioM7",
        "colab": {}
      },
      "source": [
        "df_train = pd.read_csv('train_hire_stats.csv')\n",
        "df_train.shape"
      ],
      "execution_count": null,
      "outputs": []
    },
    {
      "cell_type": "code",
      "metadata": {
        "id": "QqPj6ZzB6D5A",
        "colab_type": "code",
        "colab": {}
      },
      "source": [
        "df_train.head()"
      ],
      "execution_count": null,
      "outputs": []
    },
    {
      "cell_type": "markdown",
      "metadata": {
        "id": "IJ6_Auoy6N0A",
        "colab_type": "text"
      },
      "source": [
        "# (B) Check weekdays\n"
      ]
    },
    {
      "cell_type": "markdown",
      "metadata": {
        "colab_type": "text",
        "id": "uImM5L4DlG4X"
      },
      "source": [
        "## Step 4: Convert date string"
      ]
    },
    {
      "cell_type": "code",
      "metadata": {
        "colab_type": "code",
        "id": "LizhcbfXis75",
        "colab": {}
      },
      "source": [
        "df_train[\"tdate\"] = pd.to_datetime(df_train[\"Date\"]).dt.date"
      ],
      "execution_count": null,
      "outputs": []
    },
    {
      "cell_type": "code",
      "metadata": {
        "id": "kVqxU6586wV8",
        "colab_type": "code",
        "colab": {}
      },
      "source": [
        "df_train.head()"
      ],
      "execution_count": null,
      "outputs": []
    },
    {
      "cell_type": "markdown",
      "metadata": {
        "id": "mkgPu3oI74O8",
        "colab_type": "text"
      },
      "source": [
        "## Step 5: Day of the week"
      ]
    },
    {
      "cell_type": "code",
      "metadata": {
        "id": "6XeY2V0m7AdQ",
        "colab_type": "code",
        "colab": {}
      },
      "source": [
        "#0 == Monday\n",
        "#1 == Tuesday\n",
        "#2 == Wednesday\n",
        "#3 == Thursday\n",
        "#4 == Friday\n",
        "#5 == Saturday\n",
        "#6 == Sunday\n",
        "df_train.iloc[0]['tdate'].weekday()"
      ],
      "execution_count": null,
      "outputs": []
    },
    {
      "cell_type": "markdown",
      "metadata": {
        "id": "y7sY7JWK8TvL",
        "colab_type": "text"
      },
      "source": [
        "# (C) # One-Hot-Encoder"
      ]
    },
    {
      "cell_type": "markdown",
      "metadata": {
        "id": "BO4E2FlW84pf",
        "colab_type": "text"
      },
      "source": [
        "## Step 7: OneHotEncoder"
      ]
    },
    {
      "cell_type": "code",
      "metadata": {
        "colab_type": "code",
        "id": "8xBuhRnLlmTM",
        "colab": {}
      },
      "source": [
        "from sklearn.preprocessing import OneHotEncoder\n",
        "enc = OneHotEncoder(handle_unknown='ignore')"
      ],
      "execution_count": null,
      "outputs": []
    },
    {
      "cell_type": "markdown",
      "metadata": {
        "id": "-rI8mYb59AsS",
        "colab_type": "text"
      },
      "source": [
        "## Step 8: fit_transform"
      ]
    },
    {
      "cell_type": "code",
      "metadata": {
        "colab_type": "code",
        "id": "uA2AWBT09Klk",
        "colab": {}
      },
      "source": [
        "data = [ ['cat', 1], ['cat', 2], ['dog', 3], ['cat', 2], ['fish', 0] ]\n",
        "enc.fit_transform(data)\n",
        "enc.categories_"
      ],
      "execution_count": null,
      "outputs": []
    },
    {
      "cell_type": "markdown",
      "metadata": {
        "id": "T0wqFpfS9HA4",
        "colab_type": "text"
      },
      "source": [
        "## Step 9: transform"
      ]
    },
    {
      "cell_type": "code",
      "metadata": {
        "colab_type": "code",
        "id": "zvcrqsuM9Zof",
        "colab": {}
      },
      "source": [
        "X1 = enc.transform([['cat', 1]]).toarray()\n",
        "print(X1)"
      ],
      "execution_count": null,
      "outputs": []
    },
    {
      "cell_type": "code",
      "metadata": {
        "colab_type": "code",
        "id": "ttimxvzo9mgs",
        "colab": {}
      },
      "source": [
        "X1 = enc.transform([['dog', 3]]).toarray()\n",
        "print(X1)"
      ],
      "execution_count": null,
      "outputs": []
    },
    {
      "cell_type": "code",
      "metadata": {
        "colab_type": "code",
        "id": "1xRwCCZt9vyS",
        "colab": {}
      },
      "source": [
        "X = enc.transform(data).toarray()\n",
        "print(X)"
      ],
      "execution_count": null,
      "outputs": []
    }
  ]
}